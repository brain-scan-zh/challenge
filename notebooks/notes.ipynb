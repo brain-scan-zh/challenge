{
 "cells": [
  {
   "cell_type": "markdown",
   "metadata": {},
   "source": [
    "* 3 types of tumors here\n",
    "* malignant benign\n",
    "* gliomas are highly malighant\n",
    "* different grades of tumours, data mnmot available\n",
    "* tumours are different in men and women, more agressive high grades in men. we do not have the information here\n",
    "* "
   ]
  },
  {
   "cell_type": "markdown",
   "metadata": {},
   "source": [
    "* gliomas: on the surface, spherically distributed\n",
    "* where are rhe others distributed?\n",
    "* we use MRI, connects to hydrogen atoms of water. more density means more dense matter.\n",
    "* split viws for training\n",
    "* guys do only vertical flip. right stays right."
   ]
  }
 ],
 "metadata": {
  "language_info": {
   "name": "python"
  }
 },
 "nbformat": 4,
 "nbformat_minor": 2
}
